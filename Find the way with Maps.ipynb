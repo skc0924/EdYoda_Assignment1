{
 "cells": [
  {
   "cell_type": "markdown",
   "id": "4231b073",
   "metadata": {},
   "source": [
    "## Write a Python program to triple all numbers of a given list of integers. Use Python map.\n"
   ]
  },
  {
   "cell_type": "code",
   "execution_count": 1,
   "id": "283548c0",
   "metadata": {},
   "outputs": [
    {
     "name": "stdout",
     "output_type": "stream",
     "text": [
      "1 2 3 4 5 6 7\n",
      "[1, 2, 3, 4, 5, 6, 7]\n",
      "[3, 6, 9, 12, 15, 18, 21]\n"
     ]
    }
   ],
   "source": [
    "a=list(input().split())                 ##Taking input from user as a list of strings.\n",
    "l=[]\n",
    "for i in a:\n",
    "    i=int(i)                            ##converting the strings to int and storing in a new list l.\n",
    "    l.append(i)\n",
    "print(l)\n",
    "def multiply(x):\n",
    "    return x*3\n",
    "print(list(map(multiply,l)))"
   ]
  },
  {
   "cell_type": "code",
   "execution_count": null,
   "id": "0c6f2d50",
   "metadata": {},
   "outputs": [],
   "source": []
  }
 ],
 "metadata": {
  "kernelspec": {
   "display_name": "Python 3 (ipykernel)",
   "language": "python",
   "name": "python3"
  },
  "language_info": {
   "codemirror_mode": {
    "name": "ipython",
    "version": 3
   },
   "file_extension": ".py",
   "mimetype": "text/x-python",
   "name": "python",
   "nbconvert_exporter": "python",
   "pygments_lexer": "ipython3",
   "version": "3.10.1"
  }
 },
 "nbformat": 4,
 "nbformat_minor": 5
}
