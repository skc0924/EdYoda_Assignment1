{
 "cells": [
  {
   "cell_type": "markdown",
   "id": "52818d1d",
   "metadata": {},
   "source": [
    "## Q1. Write a program to find all pairs of an integer array whose sum is equal to a given number?"
   ]
  },
  {
   "cell_type": "code",
   "execution_count": 1,
   "id": "9e3785fd",
   "metadata": {},
   "outputs": [
    {
     "name": "stdout",
     "output_type": "stream",
     "text": [
      "Count of pairs is 3\n"
     ]
    }
   ],
   "source": [
    "def getPairsCount(arr, n, sum):\n",
    "    count = 0 \n",
    "    for i in range(0, n):\n",
    "        for j in range(i + 1, n):\n",
    "            if arr[i] + arr[j] == sum:\n",
    "                count += 1\n",
    " \n",
    "    return count\n",
    " \n",
    "arr = [1, 5, 7, -1, 5]\n",
    "n = len(arr)\n",
    "sum = 6\n",
    "print(\"Count of pairs is\",\n",
    "      getPairsCount(arr, n, sum))"
   ]
  },
  {
   "cell_type": "markdown",
   "id": "3f2cb008",
   "metadata": {},
   "source": [
    "## Q.NO:2 Write a program to reverse an array in place? In place means you cannot create a new array. You have to update the original array."
   ]
  },
  {
   "cell_type": "code",
   "execution_count": 6,
   "id": "890373d5",
   "metadata": {},
   "outputs": [
    {
     "name": "stdout",
     "output_type": "stream",
     "text": [
      "Original array is: [2, 4, 5, 7, 3, 9]\n",
      "Reversed list is : [9, 3, 7, 5, 4, 2]\n"
     ]
    }
   ],
   "source": [
    "def reverse_array(A, start, end):\n",
    "    while start < end:\n",
    "        A[start], A[end] = A[end], A[start]\n",
    "        start+= 1\n",
    "        end-= 1\n",
    "l= [2,4,5,7,3,9]\n",
    "print(\"Original array is:\",l)\n",
    "reverse_array(l,0,5)\n",
    "print(\"Reversed list is :\",l)"
   ]
  },
  {
   "cell_type": "markdown",
   "id": "db59da2d",
   "metadata": {},
   "source": [
    "## Q.3 Write a program to check if two strings are a rotation of each other?"
   ]
  },
  {
   "cell_type": "code",
   "execution_count": 14,
   "id": "fd36d720",
   "metadata": {},
   "outputs": [
    {
     "name": "stdout",
     "output_type": "stream",
     "text": [
      "Strings are not rotations of each other\n"
     ]
    }
   ],
   "source": [
    "def areRotations(string1, string2):\n",
    "    size1 = len(string1)\n",
    "    size2 = len(string2)\n",
    "    temp = ''\n",
    "    \n",
    "    if size1 != size2:\n",
    "        return 0\n",
    "\n",
    "    temp = string1 + string1\n",
    "\n",
    "    if (temp.count(string2)> 0):\n",
    "        return 1\n",
    "    else:\n",
    "        return 0\n",
    "string1 = \"AACD\"\n",
    "string2 = \"ACAD\"\n",
    "\n",
    "if areRotations(string1, string2):\n",
    "    print (\"Strings are rotations of each other\")\n",
    "else:\n",
    "    print (\"Strings are not rotations of each other\")"
   ]
  },
  {
   "cell_type": "markdown",
   "id": "6cd867f6",
   "metadata": {},
   "source": [
    "## Q.4: Write a program to print the first non-repeated character from a string?"
   ]
  },
  {
   "cell_type": "code",
   "execution_count": 20,
   "id": "a3bdb4d7",
   "metadata": {},
   "outputs": [
    {
     "name": "stdout",
     "output_type": "stream",
     "text": [
      "First non-repeating character is s\n"
     ]
    }
   ],
   "source": [
    "NO_OF_CHARS = 256\n",
    "\n",
    "def getCharCount(string):\n",
    "    count = [0] * NO_OF_CHARS\n",
    "    for i in string:\n",
    "        count[ord(i)]+= 1\n",
    "    return count\n",
    "\n",
    "def first_Non_Repeating(string):\n",
    "    count = getCharCount(string)\n",
    "    index = -1\n",
    "    k = 0\n",
    " \n",
    "    for i in string:\n",
    "        if count[ord(i)] == 1:\n",
    "            index =k\n",
    "            break\n",
    "        k+= 1\n",
    " \n",
    "    return index\n",
    " \n",
    "string = \"sandeepkumarchoudhary\"\n",
    "index = first_Non_Repeating(string)\n",
    "if index == 1:\n",
    "    print (\"Either all characters are repeating or string is empty\")\n",
    "else:\n",
    "    print (\"First non-repeating character is\" , string[index])"
   ]
  },
  {
   "cell_type": "markdown",
   "id": "97baf265",
   "metadata": {},
   "source": [
    "## Q.5: Read about the Tower of Hanoi algorithm. Write a program to implement it."
   ]
  },
  {
   "cell_type": "code",
   "execution_count": 21,
   "id": "b8289f96",
   "metadata": {},
   "outputs": [
    {
     "name": "stdout",
     "output_type": "stream",
     "text": [
      "Move disk 1 from rod A to rod B\n",
      "Move disk 2 from rod A to rod C\n",
      "Move disk 1 from rod B to rod C\n",
      "Move disk 3 from rod A to rod B\n",
      "Move disk 1 from rod C to rod A\n",
      "Move disk 2 from rod C to rod B\n",
      "Move disk 1 from rod A to rod B\n",
      "Move disk 4 from rod A to rod C\n",
      "Move disk 1 from rod B to rod C\n",
      "Move disk 2 from rod B to rod A\n",
      "Move disk 1 from rod C to rod A\n",
      "Move disk 3 from rod B to rod C\n",
      "Move disk 1 from rod A to rod B\n",
      "Move disk 2 from rod A to rod C\n",
      "Move disk 1 from rod B to rod C\n"
     ]
    }
   ],
   "source": [
    "#Tower of Hanoi is a mathematical puzzle where we have three rods and n disks. \n",
    "#The objective of the puzzle is to move the entire stack to another rod, obeying the following simple rules: \n",
    "\n",
    "#1.Only one disk can be moved at a time.\n",
    "#2.Each move consists of taking the upper disk from one of the stacks and placing it on top of another stack i.e. a disk can only be moved if it is the uppermost disk on a stack.\n",
    "#3.No disk may be placed on top of a smaller disk.\n",
    "\n",
    "def TowerOfHanoi(n , from_rod, to_rod, aux_rod):\n",
    "    if n == 0:\n",
    "        return\n",
    "    TowerOfHanoi(n-1, from_rod, aux_rod, to_rod)\n",
    "    print(\"Move disk\",n,\"from rod\",from_rod,\"to rod\",to_rod)\n",
    "    TowerOfHanoi(n-1, aux_rod, to_rod, from_rod)\n",
    "         \n",
    "n = 4\n",
    "TowerOfHanoi(n, 'A', 'C', 'B')"
   ]
  },
  {
   "cell_type": "markdown",
   "id": "b5ead802",
   "metadata": {},
   "source": [
    "## Q.6: Write a program to convert postfix to prefix expression."
   ]
  },
  {
   "cell_type": "code",
   "execution_count": 22,
   "id": "367d0690",
   "metadata": {},
   "outputs": [
    {
     "name": "stdout",
     "output_type": "stream",
     "text": [
      "ABC/-AK/L-*\n"
     ]
    }
   ],
   "source": [
    "s = \"*-A/BC-/AKL\"\n",
    " \n",
    "stack = []\n",
    " \n",
    "operators = set(['+', '-', '*', '/', '^'])\n",
    " \n",
    "s = s[::-1]\n",
    " \n",
    "for i in s:\n",
    " \n",
    "    if i in operators:\n",
    " \n",
    "        a = stack.pop()\n",
    "        b = stack.pop()\n",
    " \n",
    "        temp = a+b+i\n",
    "        stack.append(temp)\n",
    " \n",
    "    else:\n",
    "        stack.append(i)\n",
    " \n",
    "print(*stack)"
   ]
  },
  {
   "cell_type": "markdown",
   "id": "a2b67dac",
   "metadata": {},
   "source": [
    "## Q.7: Write a program to convert prefix expression to infix expression."
   ]
  },
  {
   "cell_type": "code",
   "execution_count": 27,
   "id": "aaebac33",
   "metadata": {},
   "outputs": [
    {
     "name": "stdout",
     "output_type": "stream",
     "text": [
      "((A-(B/C))*((A/K)-L))\n"
     ]
    }
   ],
   "source": [
    "def prefixToInfix(prefix):\n",
    "    stack = []\n",
    "     \n",
    "    # read prefix in reverse order\n",
    "    i = len(prefix) - 1\n",
    "    while i >= 0:\n",
    "        if not isOperator(prefix[i]):  \n",
    "            # symbol is operand\n",
    "            stack.append(prefix[i])\n",
    "            i -= 1\n",
    "        else:\n",
    "            # symbol is operator\n",
    "            str = \"(\" + stack.pop() + prefix[i] + stack.pop() + \")\"\n",
    "            stack.append(str)\n",
    "            i -= 1\n",
    "     \n",
    "    return stack.pop()\n",
    " \n",
    "def isOperator(c):\n",
    "    if c == \"*\" or c == \"+\" or c == \"-\" or c == \"/\" or c == \"^\" or c == \"(\" or c == \")\":\n",
    "        return True\n",
    "    else:\n",
    "        return False\n",
    " \n",
    "\n",
    "str = \"*-A/BC-/AKL\"\n",
    "print(prefixToInfix(str))"
   ]
  },
  {
   "cell_type": "markdown",
   "id": "be9e3077",
   "metadata": {},
   "source": [
    "## Q.8: Write a program to check if all the brackets are closed in a given code snippet."
   ]
  },
  {
   "cell_type": "code",
   "execution_count": 28,
   "id": "8acca4b5",
   "metadata": {},
   "outputs": [
    {
     "name": "stdout",
     "output_type": "stream",
     "text": [
      "Balanced\n"
     ]
    }
   ],
   "source": [
    "def areBracketsBalanced(expr):\n",
    "    stack = []\n",
    " \n",
    "    # Traversing the Expression\n",
    "    for char in expr:\n",
    "        if char in [\"(\", \"{\", \"[\"]:\n",
    " \n",
    "            \n",
    "            stack.append(char)\n",
    "        else:\n",
    "            if not stack:\n",
    "                return False\n",
    "            current_char = stack.pop()\n",
    "            if current_char == '(':\n",
    "                if char != \")\":\n",
    "                    return False\n",
    "            if current_char == '{':\n",
    "                if char != \"}\":\n",
    "                    return False\n",
    "            if current_char == '[':\n",
    "                if char != \"]\":\n",
    "                    return False\n",
    " \n",
    "    if stack:\n",
    "        return False\n",
    "    return True\n",
    " \n",
    "if __name__ == \"__main__\":\n",
    "    expr = \"{()}[]\"\n",
    " \n",
    "    # Function call\n",
    "    if areBracketsBalanced(expr):\n",
    "        print(\"Balanced\")\n",
    "    else:\n",
    "        print(\"Not Balanced\")"
   ]
  },
  {
   "cell_type": "markdown",
   "id": "6c5eced9",
   "metadata": {},
   "source": [
    "## Q.9: Write a program to reverse a stack."
   ]
  },
  {
   "cell_type": "code",
   "execution_count": 29,
   "id": "3e11e1b2",
   "metadata": {
    "scrolled": true
   },
   "outputs": [
    {
     "name": "stdout",
     "output_type": "stream",
     "text": [
      "Original Stack\n",
      "5\n",
      "4\n",
      "3\n",
      "2\n",
      "1\n",
      "\n",
      "Stack after Reversing\n",
      "1\n",
      "2\n",
      "3\n",
      "4\n",
      "5\n"
     ]
    }
   ],
   "source": [
    "class Stack:\n",
    " \n",
    "    # create empty list\n",
    "    def __init__(self):\n",
    "        self.Elements = []\n",
    "         \n",
    "    # push() for insert an element\n",
    "    def push(self, value):\n",
    "        self.Elements.append(value)\n",
    "       \n",
    "    # pop() for remove an element\n",
    "    def pop(self):\n",
    "        return self.Elements.pop()\n",
    "     \n",
    "    # empty() check the stack is empty of not\n",
    "    def empty(self):\n",
    "        return self.Elements == []\n",
    "     \n",
    "    # show() display stack\n",
    "    def show(self):\n",
    "        for value in reversed(self.Elements):\n",
    "            print(value)\n",
    " \n",
    "# Insert_Bottom() insert value at bottom\n",
    "def BottomInsert(s, value):\n",
    "   \n",
    "    # check the stack is empty or not\n",
    "    if s.empty():\n",
    "         \n",
    "        # if stack is empty then call\n",
    "        # push() method.\n",
    "        s.push(value)\n",
    "         \n",
    "    # if stack is not empty then execute\n",
    "    # else block\n",
    "    else:\n",
    "        popped = s.pop()\n",
    "        BottomInsert(s, value)\n",
    "        s.push(popped)\n",
    " \n",
    "# Reverse() reverse the stack\n",
    "def Reverse(s):\n",
    "    if s.empty():\n",
    "        pass\n",
    "    else:\n",
    "        popped = s.pop()\n",
    "        Reverse(s)\n",
    "        BottomInsert(s, popped)\n",
    " \n",
    " \n",
    "# create object of stack class\n",
    "stk = Stack()\n",
    " \n",
    "stk.push(1)\n",
    "stk.push(2)\n",
    "stk.push(3)\n",
    "stk.push(4)\n",
    "stk.push(5)\n",
    " \n",
    "print(\"Original Stack\")\n",
    "stk.show()\n",
    " \n",
    "print(\"\\nStack after Reversing\")\n",
    "Reverse(stk)\n",
    "stk.show()"
   ]
  },
  {
   "cell_type": "code",
   "execution_count": null,
   "id": "e78d4aee",
   "metadata": {},
   "outputs": [],
   "source": []
  },
  {
   "cell_type": "code",
   "execution_count": null,
   "id": "8899966c",
   "metadata": {},
   "outputs": [],
   "source": [
    "# Class to make a Node\n",
    "class Node:\n",
    "    # Constructor which assign argument to nade's value\n",
    "    def __init__(self, value):\n",
    "        self.value = value\n",
    "        self.next = None\n",
    " \n",
    "    # This method returns the string representation of the object.\n",
    "    def __str__(self):\n",
    "        return \"Node({})\".format(self.value)\n",
    "     \n",
    "    # __repr__ is same as __str__\n",
    "    __repr__ = __str__\n",
    " \n",
    " \n",
    "class Stack:\n",
    "    # Stack Constructor initialise top of stack and counter.\n",
    "    def __init__(self):\n",
    "        self.top = None\n",
    "        self.count = 0\n",
    "        self.minimum = None\n",
    "         \n",
    "    # This method returns the string representation of the object (stack).\n",
    "    def __str__(self):\n",
    "        temp = self.top\n",
    "        out = []\n",
    "        while temp:\n",
    "            out.append(str(temp.value))\n",
    "            temp = temp.next\n",
    "        out = '\\n'.join(out)\n",
    "        return ('Top {} \\n\\nStack :\\n{}'.format(self.top,out))\n",
    "         \n",
    "    # __repr__ is same as __str__\n",
    "    __repr__=__str__\n",
    "     \n",
    "    # This method is used to get minimum element of stack\n",
    "    def getMin(self):\n",
    "        if self.top is None:\n",
    "            return \"Stack is empty\"\n",
    "        else:\n",
    "            print(\"Minimum Element in the stack is: {}\" .format(self.minimum))\n",
    " \n",
    " \n",
    " \n",
    "    # Method to check if Stack is Empty or not\n",
    "    def isEmpty(self):\n",
    "        # If top equals to None then stack is empty\n",
    "        if self.top == None:\n",
    "            return True\n",
    "        else:\n",
    "        # If top not equal to None then stack is empty\n",
    "            return False\n",
    " \n",
    "    # This method returns length of stack    \n",
    "    def __len__(self):\n",
    "        self.count = 0\n",
    "        tempNode = self.top\n",
    "        while tempNode:\n",
    "            tempNode = tempNode.next\n",
    "            self.count+=1\n",
    "        return self.count\n",
    " \n",
    "    # This method returns top of stack    \n",
    "    def peek(self):\n",
    "        if self.top is None:\n",
    "            print (\"Stack is empty\")\n",
    "        else:\n",
    "            if self.top.value < self.minimum:\n",
    "                print(\"Top Most Element is: {}\" .format(self.minimum))\n",
    "            else:\n",
    "                print(\"Top Most Element is: {}\" .format(self.top.value))\n",
    " \n",
    "    # This method is used to add node to stack\n",
    "    def push(self,value):\n",
    "        if self.top is None:\n",
    "            self.top = Node(value)\n",
    "            self.minimum = value\n",
    "         \n",
    "        elif value < self.minimum:\n",
    "            temp = (2 * value) - self.minimum\n",
    "            new_node = Node(temp)\n",
    "            new_node.next = self.top\n",
    "            self.top = new_node\n",
    "            self.minimum = value\n",
    "        else:\n",
    "            new_node = Node(value)\n",
    "            new_node.next = self.top\n",
    "            self.top = new_node\n",
    "        print(\"Number Inserted: {}\" .format(value))\n",
    " \n",
    "    # This method is used to pop top of stack\n",
    "    def pop(self):\n",
    "        if self.top is None:\n",
    "            print( \"Stack is empty\")\n",
    "        else:\n",
    "            removedNode = self.top.value\n",
    "            self.top = self.top.next\n",
    "            if removedNode < self.minimum:\n",
    "                print (\"Top Most Element Removed :{} \" .format(self.minimum))\n",
    "                self.minimum = ( ( 2 * self.minimum ) - removedNode )\n",
    "            else:\n",
    "                print (\"Top Most Element Removed : {}\" .format(removedNode))\n",
    " \n",
    "                 \n",
    "             \n",
    "     \n",
    "# Driver program to test above class\n",
    "stack = Stack()\n",
    " \n",
    "stack.push(3)\n",
    "stack.push(5)\n",
    "stack.getMin()\n",
    "stack.push(2)\n",
    "stack.push(1)\n",
    "stack.getMin()    \n",
    "stack.pop()\n",
    "stack.getMin()\n",
    "stack.pop()\n",
    "stack.peek()"
   ]
  }
 ],
 "metadata": {
  "kernelspec": {
   "display_name": "Python 3 (ipykernel)",
   "language": "python",
   "name": "python3"
  },
  "language_info": {
   "codemirror_mode": {
    "name": "ipython",
    "version": 3
   },
   "file_extension": ".py",
   "mimetype": "text/x-python",
   "name": "python",
   "nbconvert_exporter": "python",
   "pygments_lexer": "ipython3",
   "version": "3.10.1"
  }
 },
 "nbformat": 4,
 "nbformat_minor": 5
}
