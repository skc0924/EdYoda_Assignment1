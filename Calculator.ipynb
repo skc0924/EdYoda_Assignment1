{
 "cells": [
  {
   "attachments": {},
   "cell_type": "markdown",
   "id": "90d9bf40",
   "metadata": {},
   "source": [
    "## In this exercise, you have to implement a calculator that can perform addition, subtraction, multiplication, and division."
   ]
  },
  {
   "cell_type": "code",
   "execution_count": 1,
   "id": "95788a03",
   "metadata": {},
   "outputs": [
    {
     "name": "stdout",
     "output_type": "stream",
     "text": [
      "Enter the first number: 10\n",
      "Enter the second number: 94\n",
      "The addition of two numbers is 104.0\n",
      "The subtraction is 84.0\n",
      "The multiplication of num1 and num2 is 100.0\n",
      "The division of num2 by num1 is 9.4\n"
     ]
    }
   ],
   "source": [
    "class Calculator:\n",
    "    \n",
    "    def __init__(self,num1,num2):\n",
    "        self.num1=num1\n",
    "        self.num2=num2\n",
    "    \n",
    "    def add(self):\n",
    "        sum=self.num1+self.num2\n",
    "        print(\"The addition of two numbers is {}\".format(sum))\n",
    "        \n",
    "    def sub(self):\n",
    "        subtraction=self.num2-self.num1\n",
    "        print(\"The subtraction is {}\".format(subtraction))\n",
    "    \n",
    "    def multiply(self):\n",
    "        multiplication=self.num1*self.num1\n",
    "        print(\"The multiplication of num1 and num2 is {}\".format(multiplication))\n",
    "        \n",
    "    def divide(self):\n",
    "        division=float(self.num2/self.num1)\n",
    "        print(\"The division of num2 by num1 is {}\".format(division))\n",
    "        \n",
    "x=float(input(\"Enter the first number: \"))\n",
    "y=float(input(\"Enter the second number: \"))\n",
    "\n",
    "a=Calculator(x,y)\n",
    "a.add()\n",
    "a.sub()\n",
    "a.multiply()\n",
    "a.divide()"
   ]
  }
 ],
 "metadata": {
  "kernelspec": {
   "display_name": "Python 3 (ipykernel)",
   "language": "python",
   "name": "python3"
  },
  "language_info": {
   "codemirror_mode": {
    "name": "ipython",
    "version": 3
   },
   "file_extension": ".py",
   "mimetype": "text/x-python",
   "name": "python",
   "nbconvert_exporter": "python",
   "pygments_lexer": "ipython3",
   "version": "3.10.1"
  }
 },
 "nbformat": 4,
 "nbformat_minor": 5
}
