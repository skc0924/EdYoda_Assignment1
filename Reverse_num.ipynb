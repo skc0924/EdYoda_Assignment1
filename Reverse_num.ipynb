{
 "cells": [
  {
   "cell_type": "markdown",
   "id": "55ec0797",
   "metadata": {},
   "source": [
    "## Write a Python program that accepts a word from the user and reverse it.\n",
    "\n"
   ]
  },
  {
   "cell_type": "code",
   "execution_count": 8,
   "id": "e502d095",
   "metadata": {},
   "outputs": [
    {
     "name": "stdout",
     "output_type": "stream",
     "text": [
      "Input the string: Edyoda\n",
      "The reversed string is: adoydE"
     ]
    }
   ],
   "source": [
    "a = input(\"Input the string: \")\n",
    "i=(len(a)-1)\n",
    "print(\"The reversed string is:\",end=\" \")\n",
    "while i>-1:\n",
    "    print((a[i]),end=\"\")\n",
    "    i=i-1"
   ]
  },
  {
   "cell_type": "code",
   "execution_count": null,
   "id": "df6e66d3",
   "metadata": {},
   "outputs": [],
   "source": []
  }
 ],
 "metadata": {
  "kernelspec": {
   "display_name": "Python 3 (ipykernel)",
   "language": "python",
   "name": "python3"
  },
  "language_info": {
   "codemirror_mode": {
    "name": "ipython",
    "version": 3
   },
   "file_extension": ".py",
   "mimetype": "text/x-python",
   "name": "python",
   "nbconvert_exporter": "python",
   "pygments_lexer": "ipython3",
   "version": "3.10.1"
  }
 },
 "nbformat": 4,
 "nbformat_minor": 5
}
