{
 "cells": [
  {
   "attachments": {},
   "cell_type": "markdown",
   "id": "e6655aeb",
   "metadata": {},
   "source": [
    "## you have to calculate a student's total marks using the concept of Classes."
   ]
  },
  {
   "cell_type": "code",
   "execution_count": 1,
   "id": "3db98097",
   "metadata": {},
   "outputs": [
    {
     "name": "stdout",
     "output_type": "stream",
     "text": [
      "Enter the name of student: Sandeep\n",
      "Enter Physics marks: 54\n",
      "Enter Chemistry marks: 56\n",
      "Enter biology marks: 87\n",
      "The total marks obtained by Sandeep is 197 .\n",
      "Sandeep has obtained 65.66666666666666 %\n"
     ]
    }
   ],
   "source": [
    "class Student:\n",
    "    \n",
    "    def __init__(self,name,physics,chemistry,biology):\n",
    "        self.name=name\n",
    "        self.physics=physics\n",
    "        self.chemistry=chemistry\n",
    "        self.biology=biology\n",
    "        \n",
    "   \n",
    "    def total_obtained(self):\n",
    "        a=self.physics+self.chemistry+self.biology\n",
    "        print(\"The total marks obtained by {} is\".format(self.name),format(a),'.')\n",
    "        \n",
    "        \n",
    "    def percentage(self):\n",
    "        total_marks=300\n",
    "        a=self.physics+self.chemistry+self.biology\n",
    "        percent=float((a/total_marks)*100)\n",
    "        print(\"{}\".format(name),\"has obtained {}\".format(percent),'%')\n",
    "\n",
    "\n",
    "name=input(\"Enter the name of student: \")\n",
    "x=int(input(\"Enter Physics marks: \"))\n",
    "y=int(input(\"Enter Chemistry marks: \"))\n",
    "z=int(input(\"Enter biology marks: \"))\n",
    "\n",
    "\n",
    "b=Student(name,x,y,z)\n",
    "b.total_obtained()\n",
    "b.percentage()"
   ]
  },
  {
   "cell_type": "code",
   "execution_count": null,
   "id": "98ced57f",
   "metadata": {},
   "outputs": [],
   "source": []
  }
 ],
 "metadata": {
  "kernelspec": {
   "display_name": "Python 3 (ipykernel)",
   "language": "python",
   "name": "python3"
  },
  "language_info": {
   "codemirror_mode": {
    "name": "ipython",
    "version": 3
   },
   "file_extension": ".py",
   "mimetype": "text/x-python",
   "name": "python",
   "nbconvert_exporter": "python",
   "pygments_lexer": "ipython3",
   "version": "3.10.1"
  }
 },
 "nbformat": 4,
 "nbformat_minor": 5
}
