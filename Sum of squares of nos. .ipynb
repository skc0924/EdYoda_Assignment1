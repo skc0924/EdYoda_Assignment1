{
 "cells": [
  {
   "attachments": {},
   "cell_type": "markdown",
   "id": "b4eb8bf5",
   "metadata": {},
   "source": [
    "## \tIn this challenge, you need to implement a method that squares passing variables and returns their sum."
   ]
  },
  {
   "cell_type": "code",
   "execution_count": 4,
   "id": "bb985791",
   "metadata": {},
   "outputs": [
    {
     "name": "stdout",
     "output_type": "stream",
     "text": [
      "Enter the first number: 1\n",
      "Enter the second number: 3\n",
      "Enter the third number: 5\n",
      "The sum of the squares of above numbers is 35 .\n"
     ]
    }
   ],
   "source": [
    "class Point:\n",
    "    \n",
    "    def __init__(self,x,y,z):\n",
    "        self.x=x\n",
    "        self.y=y\n",
    "        self.z=z\n",
    "        \n",
    "    def sqSum(self):\n",
    "        s=self.x**2+self.y**2+self.z**2\n",
    "        print(\"The sum of the squares of above numbers is {}\".format(s),'.')\n",
    "\n",
    "x=int(input(\"Enter the first number: \"))\n",
    "y=int(input(\"Enter the second number: \"))\n",
    "z=int(input(\"Enter the third number: \"))\n",
    "\n",
    "a=Point(x,y,z)\n",
    "a.sqSum()"
   ]
  },
  {
   "cell_type": "code",
   "execution_count": null,
   "id": "6c76ce66",
   "metadata": {},
   "outputs": [],
   "source": []
  }
 ],
 "metadata": {
  "kernelspec": {
   "display_name": "Python 3 (ipykernel)",
   "language": "python",
   "name": "python3"
  },
  "language_info": {
   "codemirror_mode": {
    "name": "ipython",
    "version": 3
   },
   "file_extension": ".py",
   "mimetype": "text/x-python",
   "name": "python",
   "nbconvert_exporter": "python",
   "pygments_lexer": "ipython3",
   "version": "3.10.1"
  }
 },
 "nbformat": 4,
 "nbformat_minor": 5
}
