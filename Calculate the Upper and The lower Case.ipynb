{
 "cells": [
  {
   "cell_type": "markdown",
   "id": "deca0a52",
   "metadata": {},
   "source": [
    "## Write a Python function that accepts a string and calculate the number of upper case letters and lower case letters."
   ]
  },
  {
   "cell_type": "code",
   "execution_count": 4,
   "id": "adaa01c9",
   "metadata": {},
   "outputs": [
    {
     "name": "stdout",
     "output_type": "stream",
     "text": [
      "Enter the string: The quick Brow Fox\n",
      "The number of upper case numbers is:  3\n",
      "The number of lower case numbers is:  12\n"
     ]
    },
    {
     "data": {
      "text/plain": [
       "(3, 12)"
      ]
     },
     "execution_count": 4,
     "metadata": {},
     "output_type": "execute_result"
    }
   ],
   "source": [
    "def case(n):\n",
    "    upper_case=0\n",
    "    lower_case=0\n",
    "    for i in range(len(n)):\n",
    "        if n[i]>='a' and n[i]<='z':\n",
    "            lower_case+=1 \n",
    "        elif n[i]>='A' and n[i]<='Z':\n",
    "            upper_case+=1 \n",
    "    print(\"The number of upper case numbers is: \",upper_case)\n",
    "    print(\"The number of lower case numbers is: \",lower_case)\n",
    "    return upper_case, lower_case\n",
    "\n",
    "a=input(\"Enter the string: \")\n",
    "case(a)"
   ]
  },
  {
   "cell_type": "code",
   "execution_count": null,
   "id": "5c4c47ea",
   "metadata": {},
   "outputs": [],
   "source": []
  }
 ],
 "metadata": {
  "kernelspec": {
   "display_name": "Python 3 (ipykernel)",
   "language": "python",
   "name": "python3"
  },
  "language_info": {
   "codemirror_mode": {
    "name": "ipython",
    "version": 3
   },
   "file_extension": ".py",
   "mimetype": "text/x-python",
   "name": "python",
   "nbconvert_exporter": "python",
   "pygments_lexer": "ipython3",
   "version": "3.10.1"
  }
 },
 "nbformat": 4,
 "nbformat_minor": 5
}
