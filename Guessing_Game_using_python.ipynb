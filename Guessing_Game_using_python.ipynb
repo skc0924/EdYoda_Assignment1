{
 "cells": [
  {
   "cell_type": "markdown",
   "id": "93b5d664",
   "metadata": {},
   "source": [
    "## Write a python to make a guessing game. User will have three attempts to guess the correct number."
   ]
  },
  {
   "cell_type": "code",
   "execution_count": 3,
   "id": "5d6f6e3f",
   "metadata": {},
   "outputs": [
    {
     "name": "stdout",
     "output_type": "stream",
     "text": [
      "Welcome to the guessing game.\n",
      "You will have 3 attempts to guess the correct number. \n",
      "Enter the number between 1 to 9.\n",
      "3\n",
      "Wrong choice. Try again.\n",
      "\n",
      "Enter the number between 1 to 9.\n",
      "6\n",
      "Wrong choice. Try again.\n",
      "\n",
      "Enter the number between 1 to 9.\n",
      "5\n",
      "Wrong choice. Try again.\n",
      "\n",
      "You have exhausted the try limit.\n",
      "The correct number is 1 .\n"
     ]
    }
   ],
   "source": [
    "## User have to guess a right number between 1 to 9. user will have 3 attempts to make a guess of write number. \n",
    "\n",
    "import random\n",
    "print(\"Welcome to the guessing game.\\nYou will have 3 attempts to guess the correct number. \")\n",
    "correctchoice=random.randint(1,9)\n",
    "count=0\n",
    "while count<=3:\n",
    "    n=int(input(\"Enter the number between 1 to 9.\\n\"))\n",
    "    if n==correctchoice:\n",
    "        print(\"💥💥💥💥Congo...Write choice. You won the game.💥💥💥💥\")\n",
    "        break\n",
    "    elif n!=correctchoice:\n",
    "        print(\"Wrong choice. Try again.\\n\")\n",
    "        count+=1\n",
    "        if count>=3:\n",
    "            print(\"You have exhausted the try limit.\\nThe correct number is {}\".format(correctchoice),'.')\n",
    "            break"
   ]
  },
  {
   "cell_type": "code",
   "execution_count": null,
   "id": "2c70e900",
   "metadata": {},
   "outputs": [],
   "source": []
  }
 ],
 "metadata": {
  "kernelspec": {
   "display_name": "Python 3 (ipykernel)",
   "language": "python",
   "name": "python3"
  },
  "language_info": {
   "codemirror_mode": {
    "name": "ipython",
    "version": 3
   },
   "file_extension": ".py",
   "mimetype": "text/x-python",
   "name": "python",
   "nbconvert_exporter": "python",
   "pygments_lexer": "ipython3",
   "version": "3.10.1"
  }
 },
 "nbformat": 4,
 "nbformat_minor": 5
}
