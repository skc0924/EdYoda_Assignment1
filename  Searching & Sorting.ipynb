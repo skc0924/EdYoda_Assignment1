{
 "cells": [
  {
   "cell_type": "markdown",
   "id": "c232e892",
   "metadata": {},
   "source": [
    "## 1. Implement Binary Search"
   ]
  },
  {
   "cell_type": "code",
   "execution_count": 3,
   "id": "2cc187c1",
   "metadata": {},
   "outputs": [
    {
     "name": "stdout",
     "output_type": "stream",
     "text": [
      "The given element is present at index 4\n"
     ]
    }
   ],
   "source": [
    "l=[1,3,7,18,20,21,28,32]\n",
    "element=20\n",
    "start=0\n",
    "end=len(l)-1\n",
    "while(start<=end):\n",
    "    mid=(start+end)//2\n",
    "    if l[mid]==element:\n",
    "        print(\"The given element is present at index\",mid)\n",
    "        break\n",
    "    elif l[mid]<element:\n",
    "        start=mid+1\n",
    "    \n",
    "    elif l[mid]>element:\n",
    "        end=mid-1\n",
    "else:\n",
    "    print(\"Your given element {} is not present\".format(element))"
   ]
  },
  {
   "cell_type": "markdown",
   "id": "c24332e1",
   "metadata": {},
   "source": [
    "## 2. Implement Merge Sort"
   ]
  },
  {
   "cell_type": "code",
   "execution_count": 4,
   "id": "54e03168",
   "metadata": {},
   "outputs": [
    {
     "name": "stdout",
     "output_type": "stream",
     "text": [
      "Given array is\n",
      "12 11 13 5 6 7 \n",
      "\n",
      "Sorted array is\n",
      "5 6 7 11 12 13 "
     ]
    }
   ],
   "source": [
    "def merge(arr, l, m, r):\n",
    "    n1 = m - l + 1\n",
    "    n2 = r - m\n",
    " \n",
    "    L = [0] * (n1)\n",
    "    R = [0] * (n2)\n",
    " \n",
    "    for i in range(0, n1):\n",
    "        L[i] = arr[l + i]\n",
    " \n",
    "    for j in range(0, n2):\n",
    "        R[j] = arr[m + 1 + j]\n",
    " \n",
    "    i = 0\n",
    "    j = 0    \n",
    "    k = l\n",
    " \n",
    "    while i < n1 and j < n2:\n",
    "        if L[i] <= R[j]:\n",
    "            arr[k] = L[i]\n",
    "            i += 1\n",
    "        else:\n",
    "            arr[k] = R[j]\n",
    "            j += 1\n",
    "        k += 1\n",
    " \n",
    "    while i < n1:\n",
    "        arr[k] = L[i]\n",
    "        i += 1\n",
    "        k += 1\n",
    " \n",
    "    while j < n2:\n",
    "        arr[k] = R[j]\n",
    "        j += 1\n",
    "        k += 1\n",
    " \n",
    " \n",
    "def mergeSort(arr, l, r):\n",
    "    if l < r:\n",
    " \n",
    "        m = l+(r-l)//2\n",
    " \n",
    "        mergeSort(arr, l, m)\n",
    "        mergeSort(arr, m+1, r)\n",
    "        merge(arr, l, m, r)\n",
    " \n",
    "\n",
    "arr = [12, 11, 13, 5, 6, 7]\n",
    "n = len(arr)\n",
    "print(\"Given array is\")\n",
    "for i in range(n):\n",
    "    print(\"%d\" % arr[i],end=\" \")\n",
    " \n",
    "mergeSort(arr, 0, n-1)\n",
    "print(\"\\n\\nSorted array is\")\n",
    "for i in range(n):\n",
    "    print(\"%d\" % arr[i],end=\" \")"
   ]
  },
  {
   "cell_type": "markdown",
   "id": "89fec034",
   "metadata": {},
   "source": [
    "## 3. Implement Quick Sort"
   ]
  },
  {
   "cell_type": "code",
   "execution_count": 5,
   "id": "962f61db",
   "metadata": {},
   "outputs": [
    {
     "name": "stdout",
     "output_type": "stream",
     "text": [
      "Sorted array is:\n",
      "1\n",
      "5\n",
      "7\n",
      "8\n",
      "9\n",
      "10\n"
     ]
    }
   ],
   "source": [
    "def partition(arr, low, high):\n",
    "    i = (low-1)\n",
    "    pivot = arr[high]     \n",
    " \n",
    "    for j in range(low, high):\n",
    " \n",
    "        if arr[j] <= pivot:\n",
    " \n",
    "            i = i+1\n",
    "            arr[i], arr[j] = arr[j], arr[i]\n",
    " \n",
    "    arr[i+1], arr[high] = arr[high], arr[i+1]\n",
    "    return (i+1)\n",
    "\n",
    "def quickSort(arr, low, high):\n",
    "    if len(arr) == 1:\n",
    "        return arr\n",
    "    if low < high:\n",
    " \n",
    "        pi = partition(arr, low, high)\n",
    " \n",
    "\n",
    "        quickSort(arr, low, pi-1)\n",
    "        quickSort(arr, pi+1, high)\n",
    " \n",
    "arr = [10, 7, 8, 9, 1, 5]\n",
    "n = len(arr)\n",
    "quickSort(arr, 0, n-1)\n",
    "print(\"Sorted array is:\")\n",
    "for i in range(n):\n",
    "    print(\"%d\" % arr[i])"
   ]
  },
  {
   "cell_type": "markdown",
   "id": "7210c3fe",
   "metadata": {},
   "source": [
    "## 4. Implement Insertion Sort"
   ]
  },
  {
   "cell_type": "code",
   "execution_count": 12,
   "id": "bfa27f7d",
   "metadata": {},
   "outputs": [
    {
     "name": "stdout",
     "output_type": "stream",
     "text": [
      "Sorted array is:\n",
      "5\n",
      "6\n",
      "11\n",
      "12\n",
      "13\n"
     ]
    }
   ],
   "source": [
    "def insertionSort(arr):\n",
    "    for i in range(1, len(arr)):\n",
    "        key = arr[i]\n",
    "        j = i-1\n",
    "        while j >=0 and key < arr[j] :\n",
    "                arr[j+1] = arr[j]\n",
    "                j -= 1\n",
    "        arr[j+1] = key\n",
    "arr = [12, 11, 13, 5, 6]\n",
    "insertionSort(arr)\n",
    "print (\"Sorted array is:\")\n",
    "for i in range(len(arr)):\n",
    "    print (arr[i])"
   ]
  },
  {
   "cell_type": "markdown",
   "id": "9bf718f4",
   "metadata": {},
   "source": [
    "## 5. Write a program to sort list of strings (similar to that of dictionary)\n"
   ]
  },
  {
   "cell_type": "code",
   "execution_count": 14,
   "id": "4555af6c",
   "metadata": {},
   "outputs": [
    {
     "name": "stdout",
     "output_type": "stream",
     "text": [
      "The sorted list is ['a', 'for', 'geeks', 'gfg', 'is', 'portal']\n"
     ]
    }
   ],
   "source": [
    "list = ['gfg', 'is', 'a', 'portal', 'for', 'geeks']\n",
    "list.sort()  \n",
    "print(\"The sorted list is\",list)"
   ]
  },
  {
   "cell_type": "code",
   "execution_count": null,
   "id": "d51beaaa",
   "metadata": {},
   "outputs": [],
   "source": []
  }
 ],
 "metadata": {
  "kernelspec": {
   "display_name": "Python 3 (ipykernel)",
   "language": "python",
   "name": "python3"
  },
  "language_info": {
   "codemirror_mode": {
    "name": "ipython",
    "version": 3
   },
   "file_extension": ".py",
   "mimetype": "text/x-python",
   "name": "python",
   "nbconvert_exporter": "python",
   "pygments_lexer": "ipython3",
   "version": "3.10.1"
  }
 },
 "nbformat": 4,
 "nbformat_minor": 5
}
