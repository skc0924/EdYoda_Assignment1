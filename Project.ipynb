{
 "cells": [
  {
   "cell_type": "code",
   "execution_count": 6,
   "id": "b23a9c08",
   "metadata": {},
   "outputs": [
    {
     "name": "stdout",
     "output_type": "stream",
     "text": [
      "('oppo', 2018, 'oppo_electronics')\n",
      "('vivo', 2016, 'vivo china')\n"
     ]
    }
   ],
   "source": [
    "import mysql.connector  # mysql driver\n",
    "# 2\n",
    "mydb = mysql.connector.connect(\n",
    "    host='localhost',\n",
    "    user='root',\n",
    "    password='sandeep@0924',\n",
    "    database=\"project\"\n",
    "\n",
    ")\n",
    "\n",
    "\"\"\" print(mydb) \"\"\"\n",
    "# instance of cursor class\n",
    "# 3\n",
    "mycursor = mydb.cursor()\n",
    "# 4\n",
    "mycursor.execute(\"select * from project.Brand\")\n",
    "\n",
    "for i in mycursor:\n",
    "    print(i)\n",
    "    \n"
   ]
  },
  {
   "cell_type": "code",
   "execution_count": 7,
   "id": "295e97b5",
   "metadata": {},
   "outputs": [
    {
     "name": "stdout",
     "output_type": "stream",
     "text": [
      "('vivo Y21 2021', 17000, datetime.date(2021, 3, 17))\n",
      "('vivo Y73', 19000, datetime.date(2022, 5, 21))\n"
     ]
    }
   ],
   "source": [
    "mycursor.execute(\"select * from project.Model\")\n",
    "\n",
    "for i in mycursor:\n",
    "    print(i)"
   ]
  },
  {
   "cell_type": "code",
   "execution_count": null,
   "id": "94559868",
   "metadata": {},
   "outputs": [],
   "source": []
  }
 ],
 "metadata": {
  "kernelspec": {
   "display_name": "Python 3 (ipykernel)",
   "language": "python",
   "name": "python3"
  },
  "language_info": {
   "codemirror_mode": {
    "name": "ipython",
    "version": 3
   },
   "file_extension": ".py",
   "mimetype": "text/x-python",
   "name": "python",
   "nbconvert_exporter": "python",
   "pygments_lexer": "ipython3",
   "version": "3.10.1"
  }
 },
 "nbformat": 4,
 "nbformat_minor": 5
}
