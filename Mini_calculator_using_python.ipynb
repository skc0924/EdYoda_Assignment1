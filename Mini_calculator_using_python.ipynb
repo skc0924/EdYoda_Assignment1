{
 "cells": [
  {
   "cell_type": "code",
   "execution_count": 2,
   "id": "334dfe1c",
   "metadata": {},
   "outputs": [
    {
     "name": "stdout",
     "output_type": "stream",
     "text": [
      "What do you want to do?\n",
      "1 addition\n",
      "2 Subtraction\n",
      "3 Multiplication\n",
      "4 Division\n",
      "Enter Q or q to exit. \n",
      "Enter your choice:1\n",
      "Enter number 1: 23\n",
      "Enter number 2: 34\n",
      "The addition is 57.0\n",
      "\n",
      "\n",
      "What do you want to do?\n",
      "1 addition\n",
      "2 Subtraction\n",
      "3 Multiplication\n",
      "4 Division\n",
      "Enter Q or q to exit. \n",
      "Enter your choice:q\n",
      "\n",
      "Thank you😊, See you again.\n"
     ]
    }
   ],
   "source": [
    "def addition(num1,num2):\n",
    "    add=num1+num2\n",
    "    print(\"The addition is {}\".format(add))\n",
    "\n",
    "def subtraction(num1,num2):\n",
    "    subtract=num1-num2\n",
    "    print(\"The subtraction is {}\".format(subtract))\n",
    "    \n",
    "def multiplication(num1,num2):\n",
    "    multiply=num1*num2\n",
    "    print(\"The multiplication is {}\".format(multiply))\n",
    "    \n",
    "def division(num1,num2):\n",
    "    divide=num1/num2\n",
    "    print(\"The division is {}\".format(divide))\n",
    "    \n",
    "\n",
    "while True:\n",
    "    \n",
    "    print(\"What do you want to do?\")\n",
    "    print(\"1 addition\")\n",
    "    print(\"2 Subtraction\")\n",
    "    print(\"3 Multiplication\")\n",
    "    print(\"4 Division\")\n",
    "    print(\"Enter Q or q to exit. \")\n",
    "    \n",
    "    choice=input(\"Enter your choice:\")\n",
    "    if choice=='Q' or choice=='q':\n",
    "        print(\"\\nThank you😊, See you again.\")\n",
    "        break\n",
    "        \n",
    "    num1=float(input(\"Enter number 1: \"))\n",
    "    num2=float(input(\"Enter number 2: \"))\n",
    "        \n",
    "    if choice=='1':\n",
    "        addition(num1,num2)\n",
    "        \n",
    "    elif choice=='2':\n",
    "        subtraction(num1,num2)\n",
    "        \n",
    "    elif choice=='3':\n",
    "        multiplication(num1,num2)\n",
    "        \n",
    "    elif choice=='4':\n",
    "        division(num1,num2)\n",
    "        \n",
    "    else:\n",
    "        print(\"Invalid choice. Please choose the correct one.\")\n",
    "        \n",
    "        \n",
    "    print(\"\\n\")\n",
    "        \n",
    "\n"
   ]
  },
  {
   "cell_type": "code",
   "execution_count": null,
   "id": "7f7bbf05",
   "metadata": {},
   "outputs": [],
   "source": []
  }
 ],
 "metadata": {
  "kernelspec": {
   "display_name": "Python 3 (ipykernel)",
   "language": "python",
   "name": "python3"
  },
  "language_info": {
   "codemirror_mode": {
    "name": "ipython",
    "version": 3
   },
   "file_extension": ".py",
   "mimetype": "text/x-python",
   "name": "python",
   "nbconvert_exporter": "python",
   "pygments_lexer": "ipython3",
   "version": "3.10.1"
  }
 },
 "nbformat": 4,
 "nbformat_minor": 5
}
