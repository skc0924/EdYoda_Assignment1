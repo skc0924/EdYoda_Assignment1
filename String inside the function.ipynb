{
 "cells": [
  {
   "cell_type": "markdown",
   "id": "217c64ab",
   "metadata": {},
   "source": [
    "## Write a Python program to reverse a string.\n",
    "\n"
   ]
  },
  {
   "cell_type": "code",
   "execution_count": 3,
   "id": "841c85c2",
   "metadata": {},
   "outputs": [
    {
     "name": "stdout",
     "output_type": "stream",
     "text": [
      "Enter the string: Edyoda12345\n",
      "54321adoydE\n"
     ]
    }
   ],
   "source": [
    "def reverse(string):\n",
    "    \n",
    "    for i in string:\n",
    "        i=string[-1: :-1]\n",
    "    return i\n",
    "\n",
    "n=input(\"Enter the string: \")\n",
    "print(reverse(n))"
   ]
  },
  {
   "cell_type": "code",
   "execution_count": null,
   "id": "98e45bbd",
   "metadata": {},
   "outputs": [],
   "source": []
  }
 ],
 "metadata": {
  "kernelspec": {
   "display_name": "Python 3 (ipykernel)",
   "language": "python",
   "name": "python3"
  },
  "language_info": {
   "codemirror_mode": {
    "name": "ipython",
    "version": 3
   },
   "file_extension": ".py",
   "mimetype": "text/x-python",
   "name": "python",
   "nbconvert_exporter": "python",
   "pygments_lexer": "ipython3",
   "version": "3.10.1"
  }
 },
 "nbformat": 4,
 "nbformat_minor": 5
}
