{
 "cells": [
  {
   "cell_type": "markdown",
   "id": "a3fb908e",
   "metadata": {},
   "source": [
    "## Write a Python program to count the number of even and odd numbers from a series of numbers."
   ]
  },
  {
   "cell_type": "code",
   "execution_count": 7,
   "id": "6038caf5",
   "metadata": {},
   "outputs": [
    {
     "name": "stdout",
     "output_type": "stream",
     "text": [
      "Enter the range: 23\n",
      "The given list is [1, 2, 3, 4, 5, 6, 7, 8, 9, 10, 11, 12, 13, 14, 15, 16, 17, 18, 19, 20, 21, 22, 23]\n",
      "The number of even numbers in the list is 11\n",
      "The number of odd numbers in the list is 12\n"
     ]
    }
   ],
   "source": [
    "l=int(input(\"Enter the range: \"))\n",
    "print('The given list is',list(range(1,l+1)))\n",
    "even_count=0 \n",
    "odd_count=0 \n",
    "for i in range(1,l+1):\n",
    "    if i%2==0:\n",
    "        even_count+=1 \n",
    "    elif i%2!=0:\n",
    "        odd_count+=1 \n",
    "print('The number of even numbers in the list is',even_count)\n",
    "print('The number of odd numbers in the list is',odd_count)"
   ]
  },
  {
   "cell_type": "code",
   "execution_count": null,
   "id": "4af59f83",
   "metadata": {},
   "outputs": [],
   "source": []
  }
 ],
 "metadata": {
  "kernelspec": {
   "display_name": "Python 3 (ipykernel)",
   "language": "python",
   "name": "python3"
  },
  "language_info": {
   "codemirror_mode": {
    "name": "ipython",
    "version": 3
   },
   "file_extension": ".py",
   "mimetype": "text/x-python",
   "name": "python",
   "nbconvert_exporter": "python",
   "pygments_lexer": "ipython3",
   "version": "3.10.1"
  }
 },
 "nbformat": 4,
 "nbformat_minor": 5
}
