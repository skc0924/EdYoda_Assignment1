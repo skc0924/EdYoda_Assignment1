{
 "cells": [
  {
   "cell_type": "markdown",
   "id": "fbaaf400",
   "metadata": {},
   "source": [
    "## Write a Python program to get a list, sorted in increasing order by the last element in each tuple from a given list of non-empty tuples\n",
    "\n"
   ]
  },
  {
   "cell_type": "code",
   "execution_count": 17,
   "id": "9ba55a7f",
   "metadata": {},
   "outputs": [
    {
     "name": "stdout",
     "output_type": "stream",
     "text": [
      "[(2, 1), (1, 2), (2, 3), (4, 4), (2, 5)]\n"
     ]
    }
   ],
   "source": [
    "list1=[(2, 5), (1, 2), (4, 4), (2, 3), (2, 1)]\n",
    "def last(n): \n",
    "    return n[-1]\n",
    "\n",
    "def sort_list(tuples):\n",
    "  return sorted(tuples, key=last)\n",
    "\n",
    "print(sort_list(list1))"
   ]
  },
  {
   "cell_type": "code",
   "execution_count": null,
   "id": "ad735a3a",
   "metadata": {},
   "outputs": [],
   "source": []
  }
 ],
 "metadata": {
  "kernelspec": {
   "display_name": "Python 3 (ipykernel)",
   "language": "python",
   "name": "python3"
  },
  "language_info": {
   "codemirror_mode": {
    "name": "ipython",
    "version": 3
   },
   "file_extension": ".py",
   "mimetype": "text/x-python",
   "name": "python",
   "nbconvert_exporter": "python",
   "pygments_lexer": "ipython3",
   "version": "3.10.1"
  }
 },
 "nbformat": 4,
 "nbformat_minor": 5
}
