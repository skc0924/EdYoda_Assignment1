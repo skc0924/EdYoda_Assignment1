{
 "cells": [
  {
   "cell_type": "markdown",
   "id": "c9ef1e3e",
   "metadata": {},
   "source": [
    "## Write a Python class to implement pow(x, n)"
   ]
  },
  {
   "cell_type": "code",
   "execution_count": 2,
   "id": "b62f85ad",
   "metadata": {},
   "outputs": [
    {
     "name": "stdout",
     "output_type": "stream",
     "text": [
      "Enter the value of x: 10\n",
      "Enter the value of n: 2\n",
      "The value of x to the power n is 100 .\n"
     ]
    }
   ],
   "source": [
    "class Power:\n",
    "    def __init__(self,x,n):\n",
    "        self.x=x\n",
    "        self.n=n\n",
    "        global a\n",
    "        a=self.x**self.n\n",
    "    def value(self):\n",
    "        print(\"The value of x to the power n is {}\".format(a),'.')\n",
    "x=int(input(\"Enter the value of x: \"))\n",
    "n=int(input(\"Enter the value of n: \"))\n",
    "\n",
    "s=Power(x,n)\n",
    "s.value()"
   ]
  },
  {
   "cell_type": "code",
   "execution_count": null,
   "id": "9d12bb27",
   "metadata": {},
   "outputs": [],
   "source": []
  }
 ],
 "metadata": {
  "kernelspec": {
   "display_name": "Python 3 (ipykernel)",
   "language": "python",
   "name": "python3"
  },
  "language_info": {
   "codemirror_mode": {
    "name": "ipython",
    "version": 3
   },
   "file_extension": ".py",
   "mimetype": "text/x-python",
   "name": "python",
   "nbconvert_exporter": "python",
   "pygments_lexer": "ipython3",
   "version": "3.10.1"
  }
 },
 "nbformat": 4,
 "nbformat_minor": 5
}
