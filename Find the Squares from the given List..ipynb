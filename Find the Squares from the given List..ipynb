{
 "cells": [
  {
   "cell_type": "markdown",
   "id": "d67c2c46",
   "metadata": {},
   "source": [
    "## Find the Squares from the given List\n"
   ]
  },
  {
   "cell_type": "code",
   "execution_count": 4,
   "id": "84f8bda2",
   "metadata": {},
   "outputs": [
    {
     "name": "stdout",
     "output_type": "stream",
     "text": [
      "Enter the numbers: 4 5 2 9\n",
      "The list containing integers as element is:  [4, 5, 2, 9]\n",
      "The list containing the square of elements of above list is: [16, 25, 4, 81]\n"
     ]
    }
   ],
   "source": [
    "t=list(input(\"Enter the numbers: \").split())        ##Taking input from user as a list of strings.\n",
    "l1=[]\n",
    "for i in t:                                         ##converting the strings to int and storing in a new list l1.\n",
    "    i=int(i)\n",
    "    l1.append(i)\n",
    "print(\"The list containing integers as element is: \",l1)\n",
    "def square(num):\n",
    "    return num**2\n",
    "print(\"The list containing the square of elements of above list is:\",list(map(square,l1)))"
   ]
  },
  {
   "cell_type": "code",
   "execution_count": null,
   "id": "73261f34",
   "metadata": {},
   "outputs": [],
   "source": []
  }
 ],
 "metadata": {
  "kernelspec": {
   "display_name": "Python 3 (ipykernel)",
   "language": "python",
   "name": "python3"
  },
  "language_info": {
   "codemirror_mode": {
    "name": "ipython",
    "version": 3
   },
   "file_extension": ".py",
   "mimetype": "text/x-python",
   "name": "python",
   "nbconvert_exporter": "python",
   "pygments_lexer": "ipython3",
   "version": "3.10.1"
  }
 },
 "nbformat": 4,
 "nbformat_minor": 5
}
